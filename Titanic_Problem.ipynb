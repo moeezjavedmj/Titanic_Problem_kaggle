{
  "cells": [
    {
      "cell_type": "code",
      "source": [
        "import pandas as pd\n",
        "from sklearn.ensemble import RandomForestClassifier\n",
        "from sklearn.model_selection import train_test_split, GridSearchCV\n",
        "from sklearn.metrics import accuracy_score\n",
        "from sklearn.impute import SimpleImputer\n",
        "from sklearn.preprocessing import StandardScaler"
      ],
      "outputs": [],
      "execution_count": null,
      "metadata": {
        "id": "g6z_EtN9_riw"
      }
    },
    {
      "cell_type": "markdown",
      "source": [
        "Calling Train Data"
      ],
      "metadata": {
        "id": "X592YFGUWA9F"
      }
    },
    {
      "cell_type": "code",
      "source": [
        "train_data = pd.read_csv('train.csv')\n"
      ],
      "outputs": [],
      "execution_count": null,
      "metadata": {
        "id": "dJUX4S2r_s5a"
      }
    },
    {
      "cell_type": "markdown",
      "source": [
        "Preprocessing"
      ],
      "metadata": {
        "id": "KrUMFUNqV8Hg"
      }
    },
    {
      "cell_type": "code",
      "source": [
        "train_data = train_data.drop(['PassengerId', 'Name', 'Ticket', 'Cabin'], axis=1)\n",
        "train_data['FamilySize'] = train_data['SibSp'] + train_data['Parch'] + 1"
      ],
      "outputs": [],
      "execution_count": null,
      "metadata": {
        "id": "Q-V2Ds8N_2Ar"
      }
    },
    {
      "cell_type": "markdown",
      "source": [
        "Impute the Missing values and split the value"
      ],
      "metadata": {
        "id": "XWCk9LS4UOZp"
      }
    },
    {
      "cell_type": "code",
      "source": [
        "imputer = SimpleImputer(strategy='median')\n",
        "train_data[['Age', 'Fare']] = imputer.fit_transform(train_data[['Age', 'Fare']])\n",
        "train_data = pd.get_dummies(train_data, columns=['Sex', 'Embarked'])\n",
        "X = train_data.drop('Survived', axis=1)\n",
        "y = train_data['Survived']"
      ],
      "outputs": [],
      "execution_count": null,
      "metadata": {
        "id": "csXMtPpSAGTu"
      }
    },
    {
      "cell_type": "markdown",
      "source": [
        "Split the data into training and valid set"
      ],
      "metadata": {
        "id": "jQUeVRzKU_H8"
      }
    },
    {
      "cell_type": "code",
      "source": [
        "X_train, X_val, y_train, y_val = train_test_split(X, y, test_size=0.2, random_state=42)\n",
        "scaler = StandardScaler()\n",
        "X_train_scaled = scaler.fit_transform(X_train)\n",
        "X_val_scaled = scaler.transform(X_val)\n"
      ],
      "outputs": [],
      "execution_count": null,
      "metadata": {
        "id": "Y-DFXEtmD7eK"
      }
    },
    {
      "cell_type": "markdown",
      "source": [
        "Prepared the Random forest classifier for the grid"
      ],
      "metadata": {
        "id": "VBQ1QuD5VG5s"
      }
    },
    {
      "cell_type": "code",
      "source": [
        "param_grid = {\n",
        "    'n_estimators': [20,50,100, 200, 300],\n",
        "    'max_depth': [None, 5, 10],\n",
        "    'min_samples_leaf': [1, 2, 4]\n",
        "}"
      ],
      "outputs": [],
      "execution_count": null,
      "metadata": {
        "id": "cNQanFEwDtTk"
      }
    },
    {
      "cell_type": "code",
      "source": [
        "model = RandomForestClassifier(random_state=42)\n",
        "grid_search = GridSearchCV(model, param_grid, cv=5)\n",
        "grid_search.fit(X_train_scaled, y_train)"
      ],
      "outputs": [
        {
          "output_type": "execute_result",
          "data": {
            "text/plain": [
              "GridSearchCV(cv=5, estimator=RandomForestClassifier(random_state=42),\n",
              "             param_grid={'max_depth': [None, 5, 10],\n",
              "                         'min_samples_leaf': [1, 2, 4],\n",
              "                         'n_estimators': [20, 50, 100, 200, 300]})"
            ],
            "text/html": [
              "<style>#sk-container-id-1 {color: black;background-color: white;}#sk-container-id-1 pre{padding: 0;}#sk-container-id-1 div.sk-toggleable {background-color: white;}#sk-container-id-1 label.sk-toggleable__label {cursor: pointer;display: block;width: 100%;margin-bottom: 0;padding: 0.3em;box-sizing: border-box;text-align: center;}#sk-container-id-1 label.sk-toggleable__label-arrow:before {content: \"▸\";float: left;margin-right: 0.25em;color: #696969;}#sk-container-id-1 label.sk-toggleable__label-arrow:hover:before {color: black;}#sk-container-id-1 div.sk-estimator:hover label.sk-toggleable__label-arrow:before {color: black;}#sk-container-id-1 div.sk-toggleable__content {max-height: 0;max-width: 0;overflow: hidden;text-align: left;background-color: #f0f8ff;}#sk-container-id-1 div.sk-toggleable__content pre {margin: 0.2em;color: black;border-radius: 0.25em;background-color: #f0f8ff;}#sk-container-id-1 input.sk-toggleable__control:checked~div.sk-toggleable__content {max-height: 200px;max-width: 100%;overflow: auto;}#sk-container-id-1 input.sk-toggleable__control:checked~label.sk-toggleable__label-arrow:before {content: \"▾\";}#sk-container-id-1 div.sk-estimator input.sk-toggleable__control:checked~label.sk-toggleable__label {background-color: #d4ebff;}#sk-container-id-1 div.sk-label input.sk-toggleable__control:checked~label.sk-toggleable__label {background-color: #d4ebff;}#sk-container-id-1 input.sk-hidden--visually {border: 0;clip: rect(1px 1px 1px 1px);clip: rect(1px, 1px, 1px, 1px);height: 1px;margin: -1px;overflow: hidden;padding: 0;position: absolute;width: 1px;}#sk-container-id-1 div.sk-estimator {font-family: monospace;background-color: #f0f8ff;border: 1px dotted black;border-radius: 0.25em;box-sizing: border-box;margin-bottom: 0.5em;}#sk-container-id-1 div.sk-estimator:hover {background-color: #d4ebff;}#sk-container-id-1 div.sk-parallel-item::after {content: \"\";width: 100%;border-bottom: 1px solid gray;flex-grow: 1;}#sk-container-id-1 div.sk-label:hover label.sk-toggleable__label {background-color: #d4ebff;}#sk-container-id-1 div.sk-serial::before {content: \"\";position: absolute;border-left: 1px solid gray;box-sizing: border-box;top: 0;bottom: 0;left: 50%;z-index: 0;}#sk-container-id-1 div.sk-serial {display: flex;flex-direction: column;align-items: center;background-color: white;padding-right: 0.2em;padding-left: 0.2em;position: relative;}#sk-container-id-1 div.sk-item {position: relative;z-index: 1;}#sk-container-id-1 div.sk-parallel {display: flex;align-items: stretch;justify-content: center;background-color: white;position: relative;}#sk-container-id-1 div.sk-item::before, #sk-container-id-1 div.sk-parallel-item::before {content: \"\";position: absolute;border-left: 1px solid gray;box-sizing: border-box;top: 0;bottom: 0;left: 50%;z-index: -1;}#sk-container-id-1 div.sk-parallel-item {display: flex;flex-direction: column;z-index: 1;position: relative;background-color: white;}#sk-container-id-1 div.sk-parallel-item:first-child::after {align-self: flex-end;width: 50%;}#sk-container-id-1 div.sk-parallel-item:last-child::after {align-self: flex-start;width: 50%;}#sk-container-id-1 div.sk-parallel-item:only-child::after {width: 0;}#sk-container-id-1 div.sk-dashed-wrapped {border: 1px dashed gray;margin: 0 0.4em 0.5em 0.4em;box-sizing: border-box;padding-bottom: 0.4em;background-color: white;}#sk-container-id-1 div.sk-label label {font-family: monospace;font-weight: bold;display: inline-block;line-height: 1.2em;}#sk-container-id-1 div.sk-label-container {text-align: center;}#sk-container-id-1 div.sk-container {/* jupyter's `normalize.less` sets `[hidden] { display: none; }` but bootstrap.min.css set `[hidden] { display: none !important; }` so we also need the `!important` here to be able to override the default hidden behavior on the sphinx rendered scikit-learn.org. See: https://github.com/scikit-learn/scikit-learn/issues/21755 */display: inline-block !important;position: relative;}#sk-container-id-1 div.sk-text-repr-fallback {display: none;}</style><div id=\"sk-container-id-1\" class=\"sk-top-container\"><div class=\"sk-text-repr-fallback\"><pre>GridSearchCV(cv=5, estimator=RandomForestClassifier(random_state=42),\n",
              "             param_grid={&#x27;max_depth&#x27;: [None, 5, 10],\n",
              "                         &#x27;min_samples_leaf&#x27;: [1, 2, 4],\n",
              "                         &#x27;n_estimators&#x27;: [20, 50, 100, 200, 300]})</pre><b>In a Jupyter environment, please rerun this cell to show the HTML representation or trust the notebook. <br />On GitHub, the HTML representation is unable to render, please try loading this page with nbviewer.org.</b></div><div class=\"sk-container\" hidden><div class=\"sk-item sk-dashed-wrapped\"><div class=\"sk-label-container\"><div class=\"sk-label sk-toggleable\"><input class=\"sk-toggleable__control sk-hidden--visually\" id=\"sk-estimator-id-1\" type=\"checkbox\" ><label for=\"sk-estimator-id-1\" class=\"sk-toggleable__label sk-toggleable__label-arrow\">GridSearchCV</label><div class=\"sk-toggleable__content\"><pre>GridSearchCV(cv=5, estimator=RandomForestClassifier(random_state=42),\n",
              "             param_grid={&#x27;max_depth&#x27;: [None, 5, 10],\n",
              "                         &#x27;min_samples_leaf&#x27;: [1, 2, 4],\n",
              "                         &#x27;n_estimators&#x27;: [20, 50, 100, 200, 300]})</pre></div></div></div><div class=\"sk-parallel\"><div class=\"sk-parallel-item\"><div class=\"sk-item\"><div class=\"sk-label-container\"><div class=\"sk-label sk-toggleable\"><input class=\"sk-toggleable__control sk-hidden--visually\" id=\"sk-estimator-id-2\" type=\"checkbox\" ><label for=\"sk-estimator-id-2\" class=\"sk-toggleable__label sk-toggleable__label-arrow\">estimator: RandomForestClassifier</label><div class=\"sk-toggleable__content\"><pre>RandomForestClassifier(random_state=42)</pre></div></div></div><div class=\"sk-serial\"><div class=\"sk-item\"><div class=\"sk-estimator sk-toggleable\"><input class=\"sk-toggleable__control sk-hidden--visually\" id=\"sk-estimator-id-3\" type=\"checkbox\" ><label for=\"sk-estimator-id-3\" class=\"sk-toggleable__label sk-toggleable__label-arrow\">RandomForestClassifier</label><div class=\"sk-toggleable__content\"><pre>RandomForestClassifier(random_state=42)</pre></div></div></div></div></div></div></div></div></div></div>"
            ]
          },
          "metadata": {},
          "execution_count": 7
        }
      ],
      "execution_count": null,
      "metadata": {
        "colab": {
          "base_uri": "https://localhost:8080/",
          "height": 118
        },
        "id": "DWRSlvxzEBmV",
        "outputId": "a2b4d36c-8613-404a-ba89-aaf796bef30f"
      }
    },
    {
      "cell_type": "markdown",
      "source": [
        "prepared the model for a accuracy"
      ],
      "metadata": {
        "id": "BcBR1EgPVPu1"
      }
    },
    {
      "cell_type": "code",
      "source": [
        "model = grid_search.best_estimator_\n",
        "y_pred = model.predict(X_val_scaled)\n",
        "acc = accuracy_score(y_val, y_pred)\n",
        "print(\"Validation Accuracy:\", acc)"
      ],
      "outputs": [
        {
          "output_type": "stream",
          "name": "stdout",
          "text": [
            "Validation Accuracy: 0.8044692737430168\n"
          ]
        }
      ],
      "execution_count": null,
      "metadata": {
        "colab": {
          "base_uri": "https://localhost:8080/"
        },
        "id": "tCoIs5U8EFHs",
        "outputId": "618548d3-c861-4506-8aa1-e4e04cea89cb"
      }
    },
    {
      "cell_type": "markdown",
      "source": [
        "Calling for test data"
      ],
      "metadata": {
        "id": "XBvDZtfzVp55"
      }
    },
    {
      "cell_type": "code",
      "source": [
        "test_data = pd.read_csv('test.csv')"
      ],
      "outputs": [],
      "execution_count": null,
      "metadata": {
        "id": "asVq2uHLEG6F"
      }
    },
    {
      "cell_type": "markdown",
      "source": [
        "Preprocessing"
      ],
      "metadata": {
        "id": "TzOV4CELVjLR"
      }
    },
    {
      "cell_type": "code",
      "source": [
        "test_data = test_data.drop(['PassengerId', 'Name', 'Ticket', 'Cabin'], axis=1)\n",
        "test_data['FamilySize'] = test_data['SibSp'] + test_data['Parch'] + 1\n",
        "test_data[['Age', 'Fare']] = imputer.transform(test_data[['Age', 'Fare']])\n",
        "test_data = pd.get_dummies(test_data, columns=['Sex', 'Embarked'])"
      ],
      "outputs": [],
      "execution_count": null,
      "metadata": {
        "id": "rUyHdGjHEJDN"
      }
    },
    {
      "cell_type": "markdown",
      "source": [
        "Feature scaling for test data"
      ],
      "metadata": {
        "id": "aJvu39tWVfE5"
      }
    },
    {
      "cell_type": "code",
      "source": [
        "test_data_scaled = scaler.transform(test_data)\n",
        "test_predictions = model.predict(test_data_scaled)"
      ],
      "outputs": [],
      "execution_count": null,
      "metadata": {
        "id": "SyqJYARBELZK"
      }
    },
    {
      "cell_type": "markdown",
      "source": [
        "Prepared the Result excel file"
      ],
      "metadata": {
        "id": "JZy__3Q-VwpF"
      }
    },
    {
      "cell_type": "code",
      "source": [
        "Result = pd.DataFrame({'PassengerId': pd.read_csv('test.csv')['PassengerId'], 'Survived': test_predictions})\n",
        "Result.to_csv('result.csv', index=False)"
      ],
      "outputs": [],
      "execution_count": null,
      "metadata": {
        "id": "bdqAV3TGBC5s"
      }
    }
  ],
  "metadata": {
    "colab": {
      "provenance": []
    },
    "kernelspec": {
      "display_name": "Python 3.11.0 64-bit",
      "language": "python",
      "name": "python3"
    },
    "language_info": {
      "name": "python",
      "version": "3.11.0"
    },
    "vscode": {
      "interpreter": {
        "hash": "ff4b1fca65a764b45acb559e482afe389d289dd599b9f8c5fd12ff5c2ea46a65"
      }
    },
    "nteract": {
      "version": "nteract-front-end@1.0.0"
    }
  },
  "nbformat": 4,
  "nbformat_minor": 0
}